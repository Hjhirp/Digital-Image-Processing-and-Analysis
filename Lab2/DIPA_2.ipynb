{
  "nbformat": 4,
  "nbformat_minor": 0,
  "metadata": {
    "colab": {
      "provenance": [],
      "authorship_tag": "ABX9TyPW4H+IxWFGUYvs00uFhE8z",
      "include_colab_link": true
    },
    "kernelspec": {
      "name": "python3",
      "display_name": "Python 3"
    },
    "language_info": {
      "name": "python"
    }
  },
  "cells": [
    {
      "cell_type": "markdown",
      "metadata": {
        "id": "view-in-github",
        "colab_type": "text"
      },
      "source": [
        "<a href=\"https://colab.research.google.com/github/Hjhirp/Digital-Image-Processing-and-Analysis/blob/main/Lab2/DIPA_2.ipynb\" target=\"_parent\"><img src=\"https://colab.research.google.com/assets/colab-badge.svg\" alt=\"Open In Colab\"/></a>"
      ]
    },
    {
      "cell_type": "code",
      "execution_count": null,
      "metadata": {
        "id": "qeFePfiJO9Xb"
      },
      "outputs": [],
      "source": [
        "import numpy as np\n",
        "import pandas as pd\n",
        "import cv2\n",
        "from google.colab.patches import cv2_imshow # for image display\n",
        "from skimage import io\n",
        "from PIL import Image\n",
        "import matplotlib.pylab as plt"
      ]
    },
    {
      "cell_type": "code",
      "source": [
        "from google.colab import drive\n",
        "drive.mount('/content/drive')"
      ],
      "metadata": {
        "colab": {
          "base_uri": "https://localhost:8080/"
        },
        "id": "abw4bY6_PP-0",
        "outputId": "d68e2702-05be-498e-82e5-a4c40dae67c7"
      },
      "execution_count": null,
      "outputs": [
        {
          "output_type": "stream",
          "name": "stdout",
          "text": [
            "Mounted at /content/drive\n"
          ]
        }
      ]
    },
    {
      "cell_type": "code",
      "source": [
        "%cd '/content/drive/MyDrive/DIPA'"
      ],
      "metadata": {
        "colab": {
          "base_uri": "https://localhost:8080/"
        },
        "id": "nybdZJEPPZA5",
        "outputId": "22187ed7-b87b-4c20-c3e8-1ce91b9afb79"
      },
      "execution_count": null,
      "outputs": [
        {
          "output_type": "stream",
          "name": "stdout",
          "text": [
            "/content/drive/MyDrive/DIPA\n"
          ]
        }
      ]
    },
    {
      "cell_type": "code",
      "source": [
        "gray = io.imread('/content/drive/MyDrive/DIPA/b.jpg', as_gray=True) # 64-bit float"
      ],
      "metadata": {
        "id": "apcQwhqWPc1X"
      },
      "execution_count": null,
      "outputs": []
    },
    {
      "cell_type": "code",
      "source": [
        "gray.shape"
      ],
      "metadata": {
        "colab": {
          "base_uri": "https://localhost:8080/"
        },
        "id": "oRDyj1ZVQHXV",
        "outputId": "4686e36a-4483-49a8-e886-d2440367ab35"
      },
      "execution_count": null,
      "outputs": [
        {
          "output_type": "execute_result",
          "data": {
            "text/plain": [
              "(245, 370)"
            ]
          },
          "metadata": {},
          "execution_count": 5
        }
      ]
    },
    {
      "cell_type": "markdown",
      "source": [
        "Thresholding algorithm -->\n",
        "\n",
        "\n",
        "\n",
        "*   take threshold levels\n",
        "*   do 255/threshold level+1\n",
        "*   loops to iterate through the image\n",
        "*   if gray[ i ][ j ] // threshold == 0 --> append 0\n",
        "*   else --> append (threshold * ((gray[ i ][ j ]//threshold)+1))\n",
        "\n"
      ],
      "metadata": {
        "id": "Z8nU7A2ciKuS"
      }
    },
    {
      "cell_type": "code",
      "source": [
        "thresh_level = 3\n",
        "\n",
        "threshold = 255/(thresh_level+1)\n",
        "\n",
        "new_img =[]\n",
        "temp =[]\n",
        "\n",
        "for i in range(gray.shape[0]):\n",
        "  temp=[]\n",
        "  for j in range(gray.shape[1]):\n",
        "    if gray[i][j]//threshold == 0:\n",
        "      temp.append(0)\n",
        "    else:\n",
        "      temp.append(threshold*((gray[i][j]//threshold)+1))\n",
        "  new_img.append(temp)"
      ],
      "metadata": {
        "id": "UPuhHJjpQIpu"
      },
      "execution_count": null,
      "outputs": []
    },
    {
      "cell_type": "code",
      "source": [
        "cv2_imshow(np.array(new_img))"
      ],
      "metadata": {
        "colab": {
          "base_uri": "https://localhost:8080/",
          "height": 262
        },
        "id": "PCQtMhVcSRXj",
        "outputId": "d34c1680-2d88-43d5-b8ea-a452a7d0cb06"
      },
      "execution_count": null,
      "outputs": [
        {
          "output_type": "display_data",
          "data": {
            "text/plain": [
              "<PIL.Image.Image image mode=L size=370x245 at 0x7F9F1169E4D0>"
            ],
            "image/png": "[encoded data removed]"
          },
          "metadata": {}
        }
      ]
    },
    {
      "cell_type": "code",
      "source": [],
      "metadata": {
        "id": "8H3egjyZSavy"
      },
      "execution_count": null,
      "outputs": []
    }
  ]
}