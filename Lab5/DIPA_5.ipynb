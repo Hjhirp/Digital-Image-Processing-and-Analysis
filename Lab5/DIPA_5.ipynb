{
  "nbformat": 4,
  "nbformat_minor": 0,
  "metadata": {
    "colab": {
      "provenance": [],
      "authorship_tag": "ABX9TyNJlpynadm/L3YAdYZ1M84l",
      "include_colab_link": true
    },
    "kernelspec": {
      "name": "python3",
      "display_name": "Python 3"
    },
    "language_info": {
      "name": "python"
    }
  },
  "cells": [
    {
      "cell_type": "markdown",
      "metadata": {
        "id": "view-in-github",
        "colab_type": "text"
      },
      "source": [
        "<a href=\"https://colab.research.google.com/github/Hjhirp/Digital-Image-Processing-and-Analysis/blob/main/Lab5/DIPA_5.ipynb\" target=\"_parent\"><img src=\"https://colab.research.google.com/assets/colab-badge.svg\" alt=\"Open In Colab\"/></a>"
      ]
    },
    {
      "cell_type": "code",
      "execution_count": null,
      "metadata": {
        "id": "yLL06I2ZnSMY"
      },
      "outputs": [],
      "source": [
        "# Histogram Equalisation"
      ]
    },
    {
      "cell_type": "code",
      "source": [
        "import numpy as np\n",
        "import pandas as pd\n",
        "import cv2\n",
        "from google.colab.patches import cv2_imshow # for image display\n",
        "from skimage import io\n",
        "from PIL import Image\n",
        "import matplotlib.pylab as plt"
      ],
      "metadata": {
        "id": "Tvui8v1_nY3L"
      },
      "execution_count": null,
      "outputs": []
    },
    {
      "cell_type": "code",
      "source": [
        "img = io.imread('/content/drive/MyDrive/DIPA/Images/fig5.35(b).jpg', as_gray=True) # 64-bit float\n",
        "ref = io.imread('/content/drive/MyDrive/DIPA/Images/scatter.jpg', as_gray=True)"
      ],
      "metadata": {
        "id": "x2ykodq2na3D"
      },
      "execution_count": null,
      "outputs": []
    },
    {
      "cell_type": "code",
      "source": [
        "cv2_imshow(img)\n",
        "cv2_imshow(ref)"
      ],
      "metadata": {
        "id": "CAqso2OfxaNR"
      },
      "execution_count": null,
      "outputs": []
    },
    {
      "cell_type": "code",
      "source": [
        "def cdf(gray):\n",
        "  hist = np.zeros(256)\n",
        "  x,y = img.shape\n",
        "  for i in range(x):\n",
        "    for j in range(y):\n",
        "      hist[img[i][j]] += 1\n",
        "  pdf = hist/(x*y)\n",
        "  cdf = np.zeros(256)\n",
        "  cdf[0] = pdf[0]\n",
        "  for i in range(1,256):\n",
        "    cdf[i] = cdf[i-1] + pdf[i]\n",
        "  return cdf"
      ],
      "metadata": {
        "id": "4qkVQzZbn5wI"
      },
      "execution_count": null,
      "outputs": []
    },
    {
      "cell_type": "code",
      "source": [
        "def matching(img, ref):\n",
        "  cdfi = cdf(img)\n",
        "  cdfr = cdf(ref)\n",
        "  print(\"REFERENCE IMAGE\")\n",
        "  cv2_imshow(ref)\n",
        "  map = [-1]*256\n",
        "  for i in range(255):\n",
        "    v = cdfi[i]\n",
        "    k = 0\n",
        "    while (cdfr[k] < v):\n",
        "      k+=1\n",
        "    map[i] = k\n",
        "  new_i = img.copy()\n",
        "  x,y = new_i.shape\n",
        "  for i in range(x):\n",
        "    for j in range(y):\n",
        "      val = new_i[i][j]\n",
        "    new_i[i][j] = map[val]\n",
        "  cv2_imshow(img)\n",
        "  cv2_imshow(new_i)\n",
        "  return map"
      ],
      "metadata": {
        "id": "La5uJXvrqHTD"
      },
      "execution_count": null,
      "outputs": []
    },
    {
      "cell_type": "code",
      "source": [
        "print(matching(img, ref))"
      ],
      "metadata": {
        "id": "Hz8-1p6sq8sp"
      },
      "execution_count": null,
      "outputs": []
    },
    {
      "cell_type": "code",
      "source": [],
      "metadata": {
        "id": "tKOSYEp1rDMY"
      },
      "execution_count": null,
      "outputs": []
    }
  ]
}